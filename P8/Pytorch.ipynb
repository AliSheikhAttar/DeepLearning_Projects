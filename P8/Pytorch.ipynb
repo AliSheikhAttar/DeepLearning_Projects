{
  "nbformat": 4,
  "nbformat_minor": 0,
  "metadata": {
    "colab": {
      "name": "Deep_Learing_Practice_8_AIRCenter.ipynb",
      "provenance": [],
      "collapsed_sections": []
    },
    "kernelspec": {
      "name": "python3",
      "display_name": "Python 3"
    },
    "language_info": {
      "name": "python"
    },
    "accelerator": "GPU"
  },
  "cells": [
    {
      "cell_type": "markdown",
      "metadata": {
        "id": "8EeJs7xGploQ"
      },
      "source": [
        "![0.jfif](https://uupload.ir/files/cy6_air.png)"
      ]
    },
    {
      "cell_type": "markdown",
      "metadata": {
        "id": "wjKtykbbporH"
      },
      "source": [
        "# Practice 8"
      ]
    },
    {
      "cell_type": "markdown",
      "metadata": {
        "id": "r0_agATdpwpn"
      },
      "source": [
        "<div dir=\"rtl\">\n",
        "سلام!\n",
        "\n",
        "در این تمرین قراره با پایتورچ کار کنید!"
      ]
    },
    {
      "cell_type": "markdown",
      "metadata": {
        "id": "eARm3oSSp5XG"
      },
      "source": [
        "## Part 1"
      ]
    },
    {
      "cell_type": "markdown",
      "metadata": {
        "id": "sq3Y_dmkp7BG"
      },
      "source": [
        "<div dir=\"rtl\">\n",
        "\n",
        "ابتدا یه کم مقدمات پایتورچ رو مرور کنیم"
      ]
    },
    {
      "cell_type": "markdown",
      "metadata": {
        "id": "kcizC3dqqIEG"
      },
      "source": [
        "<div dir=\"rtl\">\n",
        "سوال 1 : یک تنسور از اعداد 0 تا 29 بسازید (با استفاده از دستورات پایتورچ) و به صورت یک تنسور با تعداد سطر 6 و تعداد ستون 5 در بیارید"
      ]
    },
    {
      "cell_type": "markdown",
      "metadata": {
        "id": "0sN8EkZHq09l"
      },
      "source": [
        "<div dir=\"rtl\">\n",
        "x یک تنسور از 1000 عدد با فاصله های مساوی بین -5 تا +5 می باشد"
      ]
    },
    {
      "cell_type": "code",
      "metadata": {
        "id": "k8NeuWNCpoGQ",
        "colab": {
          "base_uri": "https://localhost:8080/"
        },
        "outputId": "02b6564c-08a6-4715-f7db-2f5c93071edb"
      },
      "source": [
        "import torch\n",
        "import matplotlib.pyplot as plt\n",
        "from torch import nn\n",
        "x1 = torch.linspace(0,29,30).view(6,5)\n",
        "x = torch.linspace(-5,5,1000).view(-1,1)\n",
        "x.shape\n"
      ],
      "execution_count": 69,
      "outputs": [
        {
          "output_type": "execute_result",
          "data": {
            "text/plain": [
              "torch.Size([1000, 1])"
            ]
          },
          "metadata": {},
          "execution_count": 69
        }
      ]
    },
    {
      "cell_type": "markdown",
      "metadata": {
        "id": "m6pJf46PtY5z"
      },
      "source": [
        "<div dir=\"rtl\">\n",
        "یادتون باشه شکل x باید جوری باشه بشه وارد شبکه ش کرد.\n",
        "به عبارت دیگه تنسور شما باید دارای دو بعد باشه که بعد اول تعداد نمونه های شماست"
      ]
    },
    {
      "cell_type": "markdown",
      "metadata": {
        "id": "y36HNwnsqomn"
      },
      "source": [
        "<div dir=\"rtl\">\n",
        "\n",
        "تابع y_func رو به صورتی بسازید که خروجی زیر رو تحویل بده"
      ]
    },
    {
      "cell_type": "markdown",
      "metadata": {
        "id": "oHq1ZRtarQNg"
      },
      "source": [
        "$y = 20sin(5x) + 6x^2 + tanh(x)$"
      ]
    },
    {
      "cell_type": "code",
      "metadata": {
        "id": "PB6C6fyMqh6L"
      },
      "source": [
        "y = 20*torch.sin(5*x) + 6*x**2 + torch.tanh(x)"
      ],
      "execution_count": 70,
      "outputs": []
    },
    {
      "cell_type": "markdown",
      "metadata": {
        "id": "Kh0mhcOZsDhV"
      },
      "source": [
        "<div dir=\"rtl\">\n",
        "نمودار y بر حسب x را در پایین نمایش بدید"
      ]
    },
    {
      "cell_type": "code",
      "metadata": {
        "colab": {
          "base_uri": "https://localhost:8080/",
          "height": 282
        },
        "id": "Srt9XMEJr0eI",
        "outputId": "c16a76d8-d95e-4a38-8f71-1e49012fdbd3"
      },
      "source": [
        "plt.plot(x,y)"
      ],
      "execution_count": 71,
      "outputs": [
        {
          "output_type": "execute_result",
          "data": {
            "text/plain": [
              "[<matplotlib.lines.Line2D at 0x7fb4f1295310>]"
            ]
          },
          "metadata": {},
          "execution_count": 71
        },
        {
          "output_type": "display_data",
          "data": {
            "image/png": "[encoded data removed]",
            "text/plain": [
              "<Figure size 432x288 with 1 Axes>"
            ]
          },
          "metadata": {
            "needs_background": "light"
          }
        }
      ]
    },
    {
      "cell_type": "markdown",
      "metadata": {
        "id": "BzQp_uOoskfz"
      },
      "source": [
        "<div dir=\"rtl\">\n",
        "با استفاده از پایتورچ، یک شکبه ی ساده طراحی کنید که بتونه تابع بالا رو به خوبی تخمین بزنه"
      ]
    },
    {
      "cell_type": "markdown",
      "metadata": {
        "id": "QJJncWgMxW8r"
      },
      "source": [
        "<div dir=\"rtl\">\n",
        "\n",
        "شبکه تون داراي دو لايه ي دنس باشه با 20 تا نود، و اکتيويشن Relu"
      ]
    },
    {
      "cell_type": "code",
      "metadata": {
        "id": "IBe0p7Bsr4kQ"
      },
      "source": [
        "class MyNN(nn.Module):\n",
        "  def __init__(self):\n",
        "    super().__init__()\n",
        "    self.denseI = nn.Linear(in_features = 1, out_features = 20)\n",
        "    self.relu = nn.ReLU()\n",
        "    self.denseII = nn.Linear(in_features = 20, out_features = 1)\n",
        "\n",
        "\n",
        "  def forward(self, input):\n",
        "    y = self.denseI(input)\n",
        "    y = self.relu(y)\n",
        "    y = self.denseII(y)\n",
        "    return y"
      ],
      "execution_count": 72,
      "outputs": []
    },
    {
      "cell_type": "code",
      "metadata": {
        "id": "SQUzJZVLtF1z"
      },
      "source": [
        "mymodel = MyNN()"
      ],
      "execution_count": 73,
      "outputs": []
    },
    {
      "cell_type": "markdown",
      "metadata": {
        "id": "ldHxylhrx0Kq"
      },
      "source": [
        "<div dir=\"rtl\">\n",
        "تابع هزينه و نوع اپتيمايزرتون رو مشخص کنيد، همچنين تعدا ايپاک ها رو برابر 15000 قرار بديد"
      ]
    },
    {
      "cell_type": "code",
      "metadata": {
        "id": "csT9Ifa7yS-p"
      },
      "source": [
        "epochs = 15000\n",
        "criterion = nn.MSELoss()\n",
        "opt = torch.optim.Adam(mymodel.parameters()) "
      ],
      "execution_count": 74,
      "outputs": []
    },
    {
      "cell_type": "markdown",
      "metadata": {
        "id": "tyReom_IylLJ"
      },
      "source": [
        "<div dir=\"rtl\">\n",
        "حلقه ي ترينتون رو بنويسيد و نتايج رو هر 1000 ايپاک نشون بديد\n"
      ]
    },
    {
      "cell_type": "code",
      "metadata": {
        "colab": {
          "base_uri": "https://localhost:8080/"
        },
        "id": "F7mOZ0RjtL5S",
        "outputId": "4d9c1529-6ffc-409f-af6d-61af16cbff74"
      },
      "source": [
        "losses = []\n",
        "for epoch in range(epochs):\n",
        "  output = mymodel.forward(x)\n",
        "  opt.zero_grad()\n",
        "  loss = criterion(y, output)\n",
        "  loss.backward()\n",
        "  opt.step()\n",
        "  losses.append(loss.item())\n",
        "  if epoch % 1000 == 0:\n",
        "    print(f'Loss = {loss.item() : 0.3f}')"
      ],
      "execution_count": 75,
      "outputs": [
        {
          "output_type": "stream",
          "name": "stdout",
          "text": [
            "Loss =  4800.939\n",
            "Loss =  885.251\n",
            "Loss =  537.610\n",
            "Loss =  403.672\n",
            "Loss =  320.748\n",
            "Loss =  261.933\n",
            "Loss =  229.261\n",
            "Loss =  220.733\n",
            "Loss =  208.213\n",
            "Loss =  205.152\n",
            "Loss =  203.244\n",
            "Loss =  201.868\n",
            "Loss =  200.639\n",
            "Loss =  199.447\n",
            "Loss =  193.690\n"
          ]
        }
      ]
    },
    {
      "cell_type": "markdown",
      "metadata": {
        "id": "e3u7ZSNRy9sn"
      },
      "source": [
        "<div dir=\"rtl\">\n",
        "\n",
        "خروجي رو پلات کنيد"
      ]
    },
    {
      "cell_type": "code",
      "metadata": {
        "colab": {
          "base_uri": "https://localhost:8080/",
          "height": 300
        },
        "id": "CeIVsa2-tNV7",
        "outputId": "3ff62c09-d010-47c7-a483-d7ece81077a6"
      },
      "source": [
        "plt.plot(x, y, x, output.detach())"
      ],
      "execution_count": 77,
      "outputs": [
        {
          "output_type": "execute_result",
          "data": {
            "text/plain": [
              "[<matplotlib.lines.Line2D at 0x7fb4f1afec10>,\n",
              " <matplotlib.lines.Line2D at 0x7fb4f1afe690>]"
            ]
          },
          "metadata": {},
          "execution_count": 77
        },
        {
          "output_type": "display_data",
          "data": {
            "image/png": "[encoded data removed]",
            "text/plain": [
              "<Figure size 432x288 with 1 Axes>"
            ]
          },
          "metadata": {
            "needs_background": "light"
          }
        }
      ]
    },
    {
      "cell_type": "markdown",
      "metadata": {
        "id": "R-ydGXhwzkGM"
      },
      "source": [
        "<div dir=\"rtl\">\n",
        "\n",
        "آيا نتايج قابل قبول است؟"
      ]
    },
    {
      "cell_type": "markdown",
      "metadata": {
        "id": "OXJt5aDqz1kH"
      },
      "source": [
        "<div dir=\"rtl\">\n",
        "توضیحات شما : \n",
        "خیر و همانطور که از شکل معلوم است دو نمودار منطبق نیستند"
      ]
    },
    {
      "cell_type": "markdown",
      "metadata": {
        "id": "T8LMqzgy0M-e"
      },
      "source": [
        "<div dir=\"rtl\">\n",
        "همون مدل بالا رو دوباره بسازيد.\n",
        "اين بار به جاي اکتيوشن relu از سينوس استفاده کنيد.\n",
        "\n",
        "توي تابع فوروارد مستقيما از تايع سينوس استفاده کنيد به جاي اکتيوشن"
      ]
    },
    {
      "cell_type": "markdown",
      "metadata": {
        "id": "3uxhItUA0QaW"
      },
      "source": [
        "<div dir=\"rtl\">\n",
        " در آخر نتايج رو با قبلي مقايسه کنيد"
      ]
    },
    {
      "cell_type": "code",
      "metadata": {
        "id": "iKM0NNjn0Jkc"
      },
      "source": [
        "class MyNN2(nn.Module):\n",
        "  def __init__(self):\n",
        "    super().__init__()\n",
        "    self.denseI = nn.Linear(in_features = 1, out_features = 20)\n",
        "    self.denseII = nn.Linear(in_features = 20, out_features = 1)\n",
        "\n",
        "\n",
        "  def forward(self, input):\n",
        "    y = self.denseI(input)\n",
        "    y = torch.sin(y)\n",
        "    y = self.denseII(y)\n",
        "    return y"
      ],
      "execution_count": 78,
      "outputs": []
    },
    {
      "cell_type": "code",
      "metadata": {
        "id": "T6Bs9fo50dqV"
      },
      "source": [
        "mymodel = MyNN2()"
      ],
      "execution_count": 79,
      "outputs": []
    },
    {
      "cell_type": "code",
      "metadata": {
        "id": "hYuaYF3X0ds1"
      },
      "source": [
        "epochs = 15000  \n",
        "criterion = nn.MSELoss()\n",
        "opt = torch.optim.Adam(mymodel.parameters()) "
      ],
      "execution_count": 80,
      "outputs": []
    },
    {
      "cell_type": "code",
      "metadata": {
        "colab": {
          "base_uri": "https://localhost:8080/"
        },
        "id": "yL9Rdygz0dva",
        "outputId": "f7dc510e-f2da-43c2-c208-65800e57e369"
      },
      "source": [
        "losses = []\n",
        "for epoch in range(epochs):\n",
        "  output = mymodel.forward(x)\n",
        "  opt.zero_grad()\n",
        "  loss = criterion(y, output)\n",
        "  loss.backward()\n",
        "  opt.step()\n",
        "  losses.append(loss.item())\n",
        "  if epoch % 1000 == 0:\n",
        "    print(f'Loss = {loss.item() : 0.6f}')"
      ],
      "execution_count": 81,
      "outputs": [
        {
          "output_type": "stream",
          "name": "stdout",
          "text": [
            "Loss =  4713.354980\n",
            "Loss =  2713.694580\n",
            "Loss =  1734.684326\n",
            "Loss =  1209.347290\n",
            "Loss =  908.416321\n",
            "Loss =  717.850708\n",
            "Loss =  580.050537\n",
            "Loss =  476.196686\n",
            "Loss =  399.951721\n",
            "Loss =  345.874969\n",
            "Loss =  308.409058\n",
            "Loss =  282.560272\n",
            "Loss =  263.127197\n",
            "Loss =  241.305237\n",
            "Loss =  229.186050\n"
          ]
        }
      ]
    },
    {
      "cell_type": "code",
      "metadata": {
        "colab": {
          "base_uri": "https://localhost:8080/",
          "height": 300
        },
        "id": "Yh6NNpke0d1e",
        "outputId": "563a74ed-453c-4dfc-821d-87109c4df244"
      },
      "source": [
        "plt.plot(x,y, x, output.detach())"
      ],
      "execution_count": 82,
      "outputs": [
        {
          "output_type": "execute_result",
          "data": {
            "text/plain": [
              "[<matplotlib.lines.Line2D at 0x7fb4f1de80d0>,\n",
              " <matplotlib.lines.Line2D at 0x7fb4f1de8d90>]"
            ]
          },
          "metadata": {},
          "execution_count": 82
        },
        {
          "output_type": "display_data",
          "data": {
            "image/png": "[encoded data removed]",
            "text/plain": [
              "<Figure size 432x288 with 1 Axes>"
            ]
          },
          "metadata": {
            "needs_background": "light"
          }
        }
      ]
    },
    {
      "cell_type": "markdown",
      "metadata": {
        "id": "ME_LX1n70eOQ"
      },
      "source": [
        "<div dir=\"rtl\">\n",
        "نتايج رو تحليل کنيد"
      ]
    },
    {
      "cell_type": "markdown",
      "metadata": {
        "id": "ppxcuzgOBLPr"
      },
      "source": [
        "<div dir=\"rtl\">\n",
        "توضیحات شما : \n",
        "نتیجه ی حاصل کاملا منطبق نشد ولی با شیب آن موافق است و برخلاف مدل قبل ، نمودار حاصل پیوسته است و شکستگی ندارد و در نتیجه تابع سینوس نسبت به اکتیویشن رلو برای این تابع مناسب تر است و نمودار آن به نمودار اصلی نزدیک تر است.\n"
      ]
    },
    {
      "cell_type": "markdown",
      "metadata": {
        "id": "7uBFDNXF1OcW"
      },
      "source": [
        "## Part 2"
      ]
    },
    {
      "cell_type": "markdown",
      "metadata": {
        "id": "mOCWyc6V2p1k"
      },
      "source": [
        "<div dir=\"rtl\">\n",
        "\n",
        "در این قسمت قراره دیتاست MNIST رو لود کنید و تصاویر رو نگاه کنید"
      ]
    },
    {
      "cell_type": "markdown",
      "metadata": {
        "id": "_R4KmirI3C6B"
      },
      "source": [
        "<div dir=\"rtl\">\n",
        "توابع مورد نیاز رو لود کنید"
      ]
    },
    {
      "cell_type": "code",
      "metadata": {
        "id": "v2GCy25X1PkG"
      },
      "source": [
        "import torch\n",
        "from torch import nn\n",
        "import numpy as np\n",
        "import matplotlib.pyplot as plt\n",
        "from torch.utils.data import DataLoader, Dataset\n",
        "from torchvision.datasets import MNIST\n",
        "from torchvision import transforms"
      ],
      "execution_count": 83,
      "outputs": []
    },
    {
      "cell_type": "markdown",
      "metadata": {
        "id": "o6te89Xo3LV1"
      },
      "source": [
        "<div dir=\"rtl\">\n",
        "تبدیل هایی که میخواید روی تصاویر اعمال بشه رو انتخاب کنید.\n",
        "\n",
        "اینجا فقط میخوایم که تصاویر به تنسور تبدیل بشن"
      ]
    },
    {
      "cell_type": "code",
      "metadata": {
        "id": "5WqTYzyY3HSA"
      },
      "source": [
        "transform = transforms.Compose([transforms.ToTensor()])"
      ],
      "execution_count": 84,
      "outputs": []
    },
    {
      "cell_type": "markdown",
      "metadata": {
        "id": "xZ_dSTZn3jm2"
      },
      "source": [
        "<div dir=\"rtl\">\n",
        "\n",
        "دیتاست ترین MNIST را لود کرده و تبدیل بالا را روی آن اعمال کنید"
      ]
    },
    {
      "cell_type": "code",
      "metadata": {
        "id": "e4pbEdX83eEJ"
      },
      "source": [
        "train_data = MNIST('./minst', download = True, train = True, transform=transform)"
      ],
      "execution_count": 85,
      "outputs": []
    },
    {
      "cell_type": "markdown",
      "metadata": {
        "id": "KF7sVdk94YWo"
      },
      "source": [
        "<div dir=\"rtl\">\n",
        "\n",
        "\n",
        "یک دیتا لودر برای دیتاستتون بسازید"
      ]
    },
    {
      "cell_type": "markdown",
      "metadata": {
        "id": "BHBoCtQC45g1"
      },
      "source": [
        "<div dir=\"rtl\">\n",
        "بچ سایز رو هم برابر 64 قرار بدید"
      ]
    },
    {
      "cell_type": "code",
      "metadata": {
        "id": "Wv2X-R4K3f2S",
        "colab": {
          "base_uri": "https://localhost:8080/"
        },
        "outputId": "27044896-6a0d-4d79-b5cf-36c0060df0ec"
      },
      "source": [
        "train_loader = DataLoader(train_data, batch_size = 64, num_workers = 3)"
      ],
      "execution_count": 86,
      "outputs": [
        {
          "output_type": "stream",
          "name": "stderr",
          "text": [
            "/usr/local/lib/python3.7/dist-packages/torch/utils/data/dataloader.py:481: UserWarning: This DataLoader will create 3 worker processes in total. Our suggested max number of worker in current system is 2, which is smaller than what this DataLoader is going to create. Please be aware that excessive worker creation might get DataLoader running slow or even freeze, lower the worker number to avoid potential slowness/freeze if necessary.\n",
            "  cpuset_checked))\n"
          ]
        }
      ]
    },
    {
      "cell_type": "markdown",
      "metadata": {
        "id": "CH4QApN45JA7"
      },
      "source": [
        "<div dir=\"rtl\">\n",
        "\n",
        "با استفاده از تابع iter \n",
        "که تو خود پایتون هست، دیتالودروتون رو به یک iterable تبدیل کنید"
      ]
    },
    {
      "cell_type": "code",
      "metadata": {
        "id": "UlxvrFN65Aa4",
        "colab": {
          "base_uri": "https://localhost:8080/"
        },
        "outputId": "0131c198-e5b4-4545-b235-52a6e7c3a98c"
      },
      "source": [
        "data_iterable = iter(train_loader)"
      ],
      "execution_count": 87,
      "outputs": [
        {
          "output_type": "stream",
          "name": "stderr",
          "text": [
            "/usr/local/lib/python3.7/dist-packages/torch/utils/data/dataloader.py:481: UserWarning: This DataLoader will create 3 worker processes in total. Our suggested max number of worker in current system is 2, which is smaller than what this DataLoader is going to create. Please be aware that excessive worker creation might get DataLoader running slow or even freeze, lower the worker number to avoid potential slowness/freeze if necessary.\n",
            "  cpuset_checked))\n"
          ]
        }
      ]
    },
    {
      "cell_type": "markdown",
      "metadata": {
        "id": "TJbklvgL5vjp"
      },
      "source": [
        "<div dir=\"rtl\">\n",
        "\n",
        "با استفاده از تابع next که \n",
        "و یا متد next ، بچ بعدی داده ها رو از دیتا لودر بگیرید"
      ]
    },
    {
      "cell_type": "code",
      "metadata": {
        "id": "0Lxsd_oW5aau",
        "colab": {
          "base_uri": "https://localhost:8080/"
        },
        "outputId": "fff2f45f-75d4-452f-beb5-dcc01ce3ce0c"
      },
      "source": [
        "batch = next(data_iterable)\n",
        "print(batch)\n",
        "print(len(batch))"
      ],
      "execution_count": 92,
      "outputs": [
        {
          "output_type": "stream",
          "name": "stdout",
          "text": [
            "[tensor([[[[0., 0., 0.,  ..., 0., 0., 0.],\n",
            "          [0., 0., 0.,  ..., 0., 0., 0.],\n",
            "          [0., 0., 0.,  ..., 0., 0., 0.],\n",
            "          ...,\n",
            "          [0., 0., 0.,  ..., 0., 0., 0.],\n",
            "          [0., 0., 0.,  ..., 0., 0., 0.],\n",
            "          [0., 0., 0.,  ..., 0., 0., 0.]]],\n",
            "\n",
            "\n",
            "        [[[0., 0., 0.,  ..., 0., 0., 0.],\n",
            "          [0., 0., 0.,  ..., 0., 0., 0.],\n",
            "          [0., 0., 0.,  ..., 0., 0., 0.],\n",
            "          ...,\n",
            "          [0., 0., 0.,  ..., 0., 0., 0.],\n",
            "          [0., 0., 0.,  ..., 0., 0., 0.],\n",
            "          [0., 0., 0.,  ..., 0., 0., 0.]]],\n",
            "\n",
            "\n",
            "        [[[0., 0., 0.,  ..., 0., 0., 0.],\n",
            "          [0., 0., 0.,  ..., 0., 0., 0.],\n",
            "          [0., 0., 0.,  ..., 0., 0., 0.],\n",
            "          ...,\n",
            "          [0., 0., 0.,  ..., 0., 0., 0.],\n",
            "          [0., 0., 0.,  ..., 0., 0., 0.],\n",
            "          [0., 0., 0.,  ..., 0., 0., 0.]]],\n",
            "\n",
            "\n",
            "        ...,\n",
            "\n",
            "\n",
            "        [[[0., 0., 0.,  ..., 0., 0., 0.],\n",
            "          [0., 0., 0.,  ..., 0., 0., 0.],\n",
            "          [0., 0., 0.,  ..., 0., 0., 0.],\n",
            "          ...,\n",
            "          [0., 0., 0.,  ..., 0., 0., 0.],\n",
            "          [0., 0., 0.,  ..., 0., 0., 0.],\n",
            "          [0., 0., 0.,  ..., 0., 0., 0.]]],\n",
            "\n",
            "\n",
            "        [[[0., 0., 0.,  ..., 0., 0., 0.],\n",
            "          [0., 0., 0.,  ..., 0., 0., 0.],\n",
            "          [0., 0., 0.,  ..., 0., 0., 0.],\n",
            "          ...,\n",
            "          [0., 0., 0.,  ..., 0., 0., 0.],\n",
            "          [0., 0., 0.,  ..., 0., 0., 0.],\n",
            "          [0., 0., 0.,  ..., 0., 0., 0.]]],\n",
            "\n",
            "\n",
            "        [[[0., 0., 0.,  ..., 0., 0., 0.],\n",
            "          [0., 0., 0.,  ..., 0., 0., 0.],\n",
            "          [0., 0., 0.,  ..., 0., 0., 0.],\n",
            "          ...,\n",
            "          [0., 0., 0.,  ..., 0., 0., 0.],\n",
            "          [0., 0., 0.,  ..., 0., 0., 0.],\n",
            "          [0., 0., 0.,  ..., 0., 0., 0.]]]]), tensor([4, 5, 6, 1, 0, 0, 1, 7, 1, 6, 3, 0, 2, 1, 1, 7, 9, 0, 2, 6, 7, 8, 3, 9,\n",
            "        0, 4, 6, 7, 4, 6, 8, 0, 7, 8, 3, 1, 5, 7, 1, 7, 1, 1, 6, 3, 0, 2, 9, 3,\n",
            "        1, 1, 0, 4, 9, 2, 0, 0, 2, 0, 2, 7, 1, 8, 6, 4])]\n",
            "2\n"
          ]
        }
      ]
    },
    {
      "cell_type": "markdown",
      "metadata": {
        "id": "MgkwBSa46Qfu"
      },
      "source": [
        "<div dir=\"rtl\">\n",
        "\n",
        "این بچ دارای چه داده هایی است؟"
      ]
    },
    {
      "cell_type": "markdown",
      "metadata": {
        "id": "HJaILGZR6Vnf"
      },
      "source": [
        "<div dir=\"rtl\">\n",
        "توضیحات شما : \n",
        "داده های این بچ در داخل یک لیستی از اعدااد هستند که این لیست دارای دو عضو است که هر دو تنسور هستند:\n",
        "اولی داده های پیکسل های عکس به صورت آرایه ای از اعداد درآمده و تنسور دومی لیبل  های عکس های متناظر از عضو اول هست.  "
      ]
    },
    {
      "cell_type": "markdown",
      "metadata": {
        "id": "LQnlJ0026W7e"
      },
      "source": [
        "<div dir=\"rtl\">\n",
        "\n",
        "داده های تصویر و لیبل را از هم جدا کنید"
      ]
    },
    {
      "cell_type": "code",
      "metadata": {
        "id": "qKLHw5Ps5po9"
      },
      "source": [
        "images = batch[0]\n",
        "labels = batch[1]"
      ],
      "execution_count": 93,
      "outputs": []
    },
    {
      "cell_type": "markdown",
      "metadata": {
        "id": "JBy_kAe68GGb"
      },
      "source": [
        "<div dir=\"rtl\">\n",
        "\n",
        "shape داده های تصویر را مورد بررسی قرار دهید و در مورد آن توضیح دهید"
      ]
    },
    {
      "cell_type": "code",
      "metadata": {
        "colab": {
          "base_uri": "https://localhost:8080/"
        },
        "id": "kvEz3ddF8BPC",
        "outputId": "a8c89052-711e-4238-a29c-d30df94cc1f4"
      },
      "source": [
        "images.shape"
      ],
      "execution_count": 94,
      "outputs": [
        {
          "output_type": "execute_result",
          "data": {
            "text/plain": [
              "torch.Size([64, 1, 28, 28])"
            ]
          },
          "metadata": {},
          "execution_count": 94
        }
      ]
    },
    {
      "cell_type": "markdown",
      "metadata": {
        "id": "KGvPLIeB8iIh"
      },
      "source": [
        "<div dir=\"rtl\">\n",
        "توضیحات شما : \n",
        "نتیجه ی شیپ یک لیست است:\n",
        "عضو اول تعداد داده ها است که همان بچ سایز است\n",
        "عضو بعدی تعداد کانال های عکس است که چون سیاه و سفید است، یک است\n",
        "عضو های بعدی ارتفاع و عرض عکس هستند."
      ]
    },
    {
      "cell_type": "markdown",
      "metadata": {
        "id": "EJ4c6jZo9Bl_"
      },
      "source": [
        "<div dir=\"rtl\">\n",
        "\n",
        "آیا این نحوه ی نمایش معمول است؟"
      ]
    },
    {
      "cell_type": "markdown",
      "metadata": {
        "id": "2iJvF7sn9JOQ"
      },
      "source": [
        "<div dir=\"rtl\">\n",
        "توضیحات شما : \n",
        "در کراس بعد از تعداد، ابتدا ابعاد عکس و سپس تعداد کانال ها بود و در اینجا برعکس است.\n"
      ]
    },
    {
      "cell_type": "markdown",
      "metadata": {
        "id": "-9VU2lQm9P8n"
      },
      "source": [
        "<div dir=\"rtl\">\n",
        "با توجه به shape فعلی داده ها\n",
        "از دستور permute در پایتورچ استفاده کنید و نحوه ی نمایش را به صورت معمول یعنی\n",
        "(H,W,C) تبدیل کنید.\n",
        "\n",
        "نحوه ی کار با این دستور را سرچ نمایید"
      ]
    },
    {
      "cell_type": "code",
      "metadata": {
        "id": "ktg0ETBl8B7a"
      },
      "source": [
        "new_images_tensor = images.permute(0,2,3,1)"
      ],
      "execution_count": 95,
      "outputs": []
    },
    {
      "cell_type": "code",
      "metadata": {
        "colab": {
          "base_uri": "https://localhost:8080/"
        },
        "id": "w2wHpcLq8zH0",
        "outputId": "ef95cb1e-78c2-4117-f336-ff6f2cbef0de"
      },
      "source": [
        "new_images_tensor.shape"
      ],
      "execution_count": 96,
      "outputs": [
        {
          "output_type": "execute_result",
          "data": {
            "text/plain": [
              "torch.Size([64, 28, 28, 1])"
            ]
          },
          "metadata": {},
          "execution_count": 96
        }
      ]
    },
    {
      "cell_type": "markdown",
      "metadata": {
        "id": "sm0BEAZT_lKV"
      },
      "source": [
        "<div dir=\"rtl\">\n",
        "\n",
        "تنسور new_images را به یک آرایه ی نامپای تبدیل کنید و سپس با استفاده از دستور subplots در مت پلات لیب 9 تصویر اول رو نمایش بدید"
      ]
    },
    {
      "cell_type": "markdown",
      "metadata": {
        "id": "97wNTkz9AUU9"
      },
      "source": [
        "<div dir=\"rtl\"> با تئجه به تعدا  ابعاد تصویر به یک ارور بر میخورید که مال متپلات لیب هستش و میگه که شکل (28,28,1) شکل درستی نیست برای تصویر، این ایراد رو برطرف کنید و سپس کارتون رو انجام بدید\n",
        "\n",
        "پ.ن : در صورتی که کار با subplots رو بلد نیستید :\n",
        "https://matplotlib.org/stable/api/_as_gen/matplotlib.pyplot.subplots.html"
      ]
    },
    {
      "cell_type": "code",
      "metadata": {
        "colab": {
          "base_uri": "https://localhost:8080/",
          "height": 248
        },
        "id": "rkZ9GE6C_BYW",
        "outputId": "8dac3136-967f-4f87-c272-4a9569ce2c4b"
      },
      "source": [
        "new_images_array = np.array(new_images_tensor)\n",
        "fig, ax = plt.subplots(3,3)\n",
        "k = 0\n",
        "for i in range(3):\n",
        "  for j in range(3):\n",
        "    ax[i,j].imshow(new_images_array[k].reshape(28,28))\n",
        "    ax[i,j].axis('off')\n",
        "    k +=1"
      ],
      "execution_count": 97,
      "outputs": [
        {
          "output_type": "display_data",
          "data": {
            "image/png": "[encoded data removed]",
            "text/plain": [
              "<Figure size 432x288 with 9 Axes>"
            ]
          },
          "metadata": {
            "needs_background": "light"
          }
        }
      ]
    }
  ]
}