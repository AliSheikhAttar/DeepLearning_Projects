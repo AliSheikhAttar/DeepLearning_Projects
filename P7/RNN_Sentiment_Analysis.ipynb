{
  "nbformat": 4,
  "nbformat_minor": 0,
  "metadata": {
    "colab": {
      "name": "Deep_Learing_Practice_7__AIRCenter_ipynb.ipynb",
      "provenance": [],
      "collapsed_sections": []
    },
    "kernelspec": {
      "name": "python3",
      "display_name": "Python 3"
    },
    "language_info": {
      "name": "python"
    },
    "accelerator": "GPU"
  },
  "cells": [
    {
      "cell_type": "markdown",
      "metadata": {
        "id": "mVLxUYMohABE"
      },
      "source": [
        "![0.jfif](https://uupload.ir/files/cy6_air.png)\n",
        "\n",
        "\n",
        "\n"
      ]
    },
    {
      "cell_type": "markdown",
      "metadata": {
        "id": "m7_urKgjhO7c"
      },
      "source": [
        "# Practice 7"
      ]
    },
    {
      "cell_type": "markdown",
      "metadata": {
        "id": "xSjV3Pv6hjm5"
      },
      "source": [
        "<div dir=\"rtl\">\n",
        "سلام!\n",
        "\n",
        "در این تسک باید روی یک دیتاست، عمل شناسایی احساسات رو انجام بدین."
      ]
    },
    {
      "cell_type": "markdown",
      "metadata": {
        "id": "kSF9lyvAhXbi"
      },
      "source": [
        "## Kaggle Token and downloading data"
      ]
    },
    {
      "cell_type": "markdown",
      "metadata": {
        "id": "koAtcm9Uhdi6"
      },
      "source": [
        "<div dir=\"rtl\">\n",
        "در این قسمت ابتدا باید دیتای مورد نظر رو از سایت کگل دانلود کنید، پیشنهاد ما استفاده از دیتاست IMDB هستش که شامل نظرات در مورد فیلم های مختلف می باشد"
      ]
    },
    {
      "cell_type": "markdown",
      "metadata": {
        "id": "Cp7tlCMnjZqv"
      },
      "source": [
        "<div dir=\"rtl\">\n",
        "\n",
        "این دیتاست رو می تونید از لینک زیر پیدا کنید\n",
        "\n",
        "https://www.kaggle.com/lakshmi25npathi/imdb-dataset-of-50k-movie-reviews"
      ]
    },
    {
      "cell_type": "markdown",
      "metadata": {
        "id": "6fOeEiOnjiaD"
      },
      "source": [
        "<div dir=\"rtl\">\n",
        "\n",
        "وارد لینک بالا بشید و اطلاعات گفته شده در مورد دیتاست رو مطالعه کنید"
      ]
    },
    {
      "cell_type": "markdown",
      "metadata": {
        "id": "CdIwgue3j30T"
      },
      "source": [
        "<div dir=\"rtl\">\n",
        "\n",
        "حال ابتدا توکن kaggle api خود را آپلود کنید.\n"
      ]
    },
    {
      "cell_type": "code",
      "metadata": {
        "id": "KOK3j1XzhBoM",
        "colab": {
          "resources": {
            "http://localhost:8080/nbextensions/google.colab/files.js": {
              "data": "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",
              "ok": true,
              "headers": [
                [
                  "content-type",
                  "application/javascript"
                ]
              ],
              "status": 200,
              "status_text": ""
            }
          },
          "base_uri": "https://localhost:8080/",
          "height": 91
        },
        "outputId": "b4ede9e2-ab08-456d-ce02-893b475573e1"
      },
      "source": [
        "from IPython.display import clear_output\n",
        "!pip install --upgrade kaggle\n",
        "clear_output()\n",
        "from google.colab import files\n",
        "\n",
        "uploaded = files.upload()\n",
        "\n",
        "for fn in uploaded.keys():\n",
        "  print('User uploaded file \"{name}\" with length {length} bytes'.format(\n",
        "      name=fn, length=len(uploaded[fn])))\n",
        "!mkdir -p ~/.kaggle/ && mv kaggle.json ~/.kaggle/ && chmod 600 ~/.kaggle/kaggle.json"
      ],
      "execution_count": 42,
      "outputs": [
        {
          "output_type": "display_data",
          "data": {
            "text/html": [
              "\n",
              "     <input type=\"file\" id=\"files-0845b90d-1620-4842-bd94-2d704c2b7973\" name=\"files[]\" multiple disabled\n",
              "        style=\"border:none\" />\n",
              "     <output id=\"result-0845b90d-1620-4842-bd94-2d704c2b7973\">\n",
              "      Upload widget is only available when the cell has been executed in the\n",
              "      current browser session. Please rerun this cell to enable.\n",
              "      </output>\n",
              "      <script src=\"/nbextensions/google.colab/files.js\"></script> "
            ],
            "text/plain": [
              "<IPython.core.display.HTML object>"
            ]
          },
          "metadata": {}
        },
        {
          "output_type": "stream",
          "name": "stdout",
          "text": [
            "Saving kaggle.json to kaggle.json\n",
            "User uploaded file \"kaggle.json\" with length 70 bytes\n"
          ]
        }
      ]
    },
    {
      "cell_type": "markdown",
      "metadata": {
        "id": "DX0nSyotkJUR"
      },
      "source": [
        "<div dir=\"rtl\">\n",
        "\n",
        "حالا دیتاست تون رو دانلود بفرمایید"
      ]
    },
    {
      "cell_type": "code",
      "metadata": {
        "id": "PaBSry7PkH6m",
        "colab": {
          "base_uri": "https://localhost:8080/"
        },
        "outputId": "91cced70-92ed-409c-ca31-efe3ce1e887a"
      },
      "source": [
        "!kaggle datasets download -d lakshmi25npathi/imdb-dataset-of-50k-movie-reviews"
      ],
      "execution_count": 43,
      "outputs": [
        {
          "output_type": "stream",
          "name": "stdout",
          "text": [
            "Downloading imdb-dataset-of-50k-movie-reviews.zip to /content\n",
            " 66% 17.0M/25.7M [00:00<00:00, 20.1MB/s]\n",
            "100% 25.7M/25.7M [00:00<00:00, 31.7MB/s]\n"
          ]
        }
      ]
    },
    {
      "cell_type": "markdown",
      "metadata": {
        "id": "8YbcTEHVkmXZ"
      },
      "source": [
        "<div dir=\"rtl\">\n",
        "\n",
        "فایلی که دانلود کردید به صورت زیپ می باشد پس باید اون رو اکسترکت"
      ]
    },
    {
      "cell_type": "code",
      "metadata": {
        "id": "KewGS6LUklb3"
      },
      "source": [
        "!unzip -qx /content/imdb-dataset-of-50k-movie-reviews.zip"
      ],
      "execution_count": 44,
      "outputs": []
    },
    {
      "cell_type": "markdown",
      "metadata": {
        "id": "in4veZpCkzyX"
      },
      "source": [
        "<div dir=\"rtl\">\n",
        "\n",
        "خب حالا وقتشه با توجه به کارایی که میخواید انجام بدید یه تعدادی از کتابخونه های مورد نیازتون رو ایمپورت کنید.\n",
        "برای مثال فایلی که داخل فایل فشرده بود دارای فرمت csv هستش پس میتونید از پانداز استفاده کنید!"
      ]
    },
    {
      "cell_type": "code",
      "metadata": {
        "id": "RxsdWQBPlr6C"
      },
      "source": [
        "import csv\n",
        "import tensorflow as tf\n",
        "import numpy as np\n",
        "import pandas as pd\n",
        "import matplotlib.pyplot as plt"
      ],
      "execution_count": 45,
      "outputs": []
    },
    {
      "cell_type": "markdown",
      "metadata": {
        "id": "omv_G1B5lyBD"
      },
      "source": [
        "<div dir=\"rtl\">\n",
        "\n",
        "فایل csv رو بخونید"
      ]
    },
    {
      "cell_type": "code",
      "metadata": {
        "id": "drD55h4LlxaX"
      },
      "source": [
        "df = pd.read_csv(\"/content/IMDB Dataset.csv\")"
      ],
      "execution_count": 46,
      "outputs": []
    },
    {
      "cell_type": "markdown",
      "metadata": {
        "id": "vaM5a22rl3tL"
      },
      "source": [
        "<div dir=\"rtl\">\n",
        "\n",
        "یه نکاه اجمالی بندازید که دیتافیمتون به چه صورت هستش"
      ]
    },
    {
      "cell_type": "code",
      "metadata": {
        "id": "qfGvkVU2mUty",
        "colab": {
          "base_uri": "https://localhost:8080/",
          "height": 206
        },
        "outputId": "bd08f563-1813-49fa-ea53-e2e9ed02f04b"
      },
      "source": [
        "df.head()"
      ],
      "execution_count": 47,
      "outputs": [
        {
          "output_type": "execute_result",
          "data": {
            "text/html": [
              "\n",
              "  <div id=\"df-09e7fe41-2b97-4c0f-98b2-0ff6129da8d3\">\n",
              "    <div class=\"colab-df-container\">\n",
              "      <div>\n",
              "<style scoped>\n",
              "    .dataframe tbody tr th:only-of-type {\n",
              "        vertical-align: middle;\n",
              "    }\n",
              "\n",
              "    .dataframe tbody tr th {\n",
              "        vertical-align: top;\n",
              "    }\n",
              "\n",
              "    .dataframe thead th {\n",
              "        text-align: right;\n",
              "    }\n",
              "</style>\n",
              "<table border=\"1\" class=\"dataframe\">\n",
              "  <thead>\n",
              "    <tr style=\"text-align: right;\">\n",
              "      <th></th>\n",
              "      <th>review</th>\n",
              "      <th>sentiment</th>\n",
              "    </tr>\n",
              "  </thead>\n",
              "  <tbody>\n",
              "    <tr>\n",
              "      <th>0</th>\n",
              "      <td>One of the other reviewers has mentioned that ...</td>\n",
              "      <td>positive</td>\n",
              "    </tr>\n",
              "    <tr>\n",
              "      <th>1</th>\n",
              "      <td>A wonderful little production. &lt;br /&gt;&lt;br /&gt;The...</td>\n",
              "      <td>positive</td>\n",
              "    </tr>\n",
              "    <tr>\n",
              "      <th>2</th>\n",
              "      <td>I thought this was a wonderful way to spend ti...</td>\n",
              "      <td>positive</td>\n",
              "    </tr>\n",
              "    <tr>\n",
              "      <th>3</th>\n",
              "      <td>Basically there's a family where a little boy ...</td>\n",
              "      <td>negative</td>\n",
              "    </tr>\n",
              "    <tr>\n",
              "      <th>4</th>\n",
              "      <td>Petter Mattei's \"Love in the Time of Money\" is...</td>\n",
              "      <td>positive</td>\n",
              "    </tr>\n",
              "  </tbody>\n",
              "</table>\n",
              "</div>\n",
              "      <button class=\"colab-df-convert\" onclick=\"convertToInteractive('df-09e7fe41-2b97-4c0f-98b2-0ff6129da8d3')\"\n",
              "              title=\"Convert this dataframe to an interactive table.\"\n",
              "              style=\"display:none;\">\n",
              "        \n",
              "  <svg xmlns=\"http://www.w3.org/2000/svg\" height=\"24px\"viewBox=\"0 0 24 24\"\n",
              "       width=\"24px\">\n",
              "    <path d=\"M0 0h24v24H0V0z\" fill=\"none\"/>\n",
              "    <path d=\"M18.56 5.44l.94 2.06.94-2.06 2.06-.94-2.06-.94-.94-2.06-.94 2.06-2.06.94zm-11 1L8.5 8.5l.94-2.06 2.06-.94-2.06-.94L8.5 2.5l-.94 2.06-2.06.94zm10 10l.94 2.06.94-2.06 2.06-.94-2.06-.94-.94-2.06-.94 2.06-2.06.94z\"/><path d=\"M17.41 7.96l-1.37-1.37c-.4-.4-.92-.59-1.43-.59-.52 0-1.04.2-1.43.59L10.3 9.45l-7.72 7.72c-.78.78-.78 2.05 0 2.83L4 21.41c.39.39.9.59 1.41.59.51 0 1.02-.2 1.41-.59l7.78-7.78 2.81-2.81c.8-.78.8-2.07 0-2.86zM5.41 20L4 18.59l7.72-7.72 1.47 1.35L5.41 20z\"/>\n",
              "  </svg>\n",
              "      </button>\n",
              "      \n",
              "  <style>\n",
              "    .colab-df-container {\n",
              "      display:flex;\n",
              "      flex-wrap:wrap;\n",
              "      gap: 12px;\n",
              "    }\n",
              "\n",
              "    .colab-df-convert {\n",
              "      background-color: #E8F0FE;\n",
              "      border: none;\n",
              "      border-radius: 50%;\n",
              "      cursor: pointer;\n",
              "      display: none;\n",
              "      fill: #1967D2;\n",
              "      height: 32px;\n",
              "      padding: 0 0 0 0;\n",
              "      width: 32px;\n",
              "    }\n",
              "\n",
              "    .colab-df-convert:hover {\n",
              "      background-color: #E2EBFA;\n",
              "      box-shadow: 0px 1px 2px rgba(60, 64, 67, 0.3), 0px 1px 3px 1px rgba(60, 64, 67, 0.15);\n",
              "      fill: #174EA6;\n",
              "    }\n",
              "\n",
              "    [theme=dark] .colab-df-convert {\n",
              "      background-color: #3B4455;\n",
              "      fill: #D2E3FC;\n",
              "    }\n",
              "\n",
              "    [theme=dark] .colab-df-convert:hover {\n",
              "      background-color: #434B5C;\n",
              "      box-shadow: 0px 1px 3px 1px rgba(0, 0, 0, 0.15);\n",
              "      filter: drop-shadow(0px 1px 2px rgba(0, 0, 0, 0.3));\n",
              "      fill: #FFFFFF;\n",
              "    }\n",
              "  </style>\n",
              "\n",
              "      <script>\n",
              "        const buttonEl =\n",
              "          document.querySelector('#df-09e7fe41-2b97-4c0f-98b2-0ff6129da8d3 button.colab-df-convert');\n",
              "        buttonEl.style.display =\n",
              "          google.colab.kernel.accessAllowed ? 'block' : 'none';\n",
              "\n",
              "        async function convertToInteractive(key) {\n",
              "          const element = document.querySelector('#df-09e7fe41-2b97-4c0f-98b2-0ff6129da8d3');\n",
              "          const dataTable =\n",
              "            await google.colab.kernel.invokeFunction('convertToInteractive',\n",
              "                                                     [key], {});\n",
              "          if (!dataTable) return;\n",
              "\n",
              "          const docLinkHtml = 'Like what you see? Visit the ' +\n",
              "            '<a target=\"_blank\" href=https://colab.research.google.com/notebooks/data_table.ipynb>data table notebook</a>'\n",
              "            + ' to learn more about interactive tables.';\n",
              "          element.innerHTML = '';\n",
              "          dataTable['output_type'] = 'display_data';\n",
              "          await google.colab.output.renderOutput(dataTable, element);\n",
              "          const docLink = document.createElement('div');\n",
              "          docLink.innerHTML = docLinkHtml;\n",
              "          element.appendChild(docLink);\n",
              "        }\n",
              "      </script>\n",
              "    </div>\n",
              "  </div>\n",
              "  "
            ],
            "text/plain": [
              "                                              review sentiment\n",
              "0  One of the other reviewers has mentioned that ...  positive\n",
              "1  A wonderful little production. <br /><br />The...  positive\n",
              "2  I thought this was a wonderful way to spend ti...  positive\n",
              "3  Basically there's a family where a little boy ...  negative\n",
              "4  Petter Mattei's \"Love in the Time of Money\" is...  positive"
            ]
          },
          "metadata": {},
          "execution_count": 47
        }
      ]
    },
    {
      "cell_type": "markdown",
      "metadata": {
        "id": "lKBBimVpmokh"
      },
      "source": [
        "<div dir=\"rtl\">\n",
        "\n",
        "همون طور که می بینید، دیتافریم شما دارای 2 ستون نظر و  لیبل اون احساس هستش\n",
        "\n",
        "قبل از هر چیز، می خوایم که دو تا کار انجام بدیم"
      ]
    },
    {
      "cell_type": "markdown",
      "metadata": {
        "id": "pUSHrWfQm52p"
      },
      "source": [
        "<div dir=\"rtl\">\n",
        "\n",
        "1. ببینیم که تعداد کلمات هر نظر چه تعداد هستش برای این کار میتونید از متد apply برای دیتافریم استفاده کنید.\n",
        "و یک ستون جدید به دیتافریم اضافه کنید که تعداد کلمات هر نظر داخلش باشه.\n",
        " اسم ستون رو length بذارید\n",
        "\n",
        "پ.ن : متد apply صرفا پیشنهاد بود، می تونید از روش های دیگه هم استفاده کنید"
      ]
    },
    {
      "cell_type": "code",
      "metadata": {
        "id": "ekAu9AHHmzGk"
      },
      "source": [
        "def numberofwords(a):\n",
        "  b = a.split()\n",
        "  return len(b)\n",
        "number_apply = df.apply(lambda row: numberofwords(row['review']),axis=1)\n",
        "df['length'] = number_apply"
      ],
      "execution_count": 48,
      "outputs": []
    },
    {
      "cell_type": "code",
      "source": [
        "df.head()"
      ],
      "metadata": {
        "colab": {
          "base_uri": "https://localhost:8080/",
          "height": 206
        },
        "id": "sdUeTZHYD-rf",
        "outputId": "6ec32fc3-f66d-48c3-b626-1e2e9e6ad29d"
      },
      "execution_count": 49,
      "outputs": [
        {
          "output_type": "execute_result",
          "data": {
            "text/html": [
              "\n",
              "  <div id=\"df-386f3da2-7dac-43b3-b2f6-5d991dc5feaf\">\n",
              "    <div class=\"colab-df-container\">\n",
              "      <div>\n",
              "<style scoped>\n",
              "    .dataframe tbody tr th:only-of-type {\n",
              "        vertical-align: middle;\n",
              "    }\n",
              "\n",
              "    .dataframe tbody tr th {\n",
              "        vertical-align: top;\n",
              "    }\n",
              "\n",
              "    .dataframe thead th {\n",
              "        text-align: right;\n",
              "    }\n",
              "</style>\n",
              "<table border=\"1\" class=\"dataframe\">\n",
              "  <thead>\n",
              "    <tr style=\"text-align: right;\">\n",
              "      <th></th>\n",
              "      <th>review</th>\n",
              "      <th>sentiment</th>\n",
              "      <th>length</th>\n",
              "    </tr>\n",
              "  </thead>\n",
              "  <tbody>\n",
              "    <tr>\n",
              "      <th>0</th>\n",
              "      <td>One of the other reviewers has mentioned that ...</td>\n",
              "      <td>positive</td>\n",
              "      <td>307</td>\n",
              "    </tr>\n",
              "    <tr>\n",
              "      <th>1</th>\n",
              "      <td>A wonderful little production. &lt;br /&gt;&lt;br /&gt;The...</td>\n",
              "      <td>positive</td>\n",
              "      <td>162</td>\n",
              "    </tr>\n",
              "    <tr>\n",
              "      <th>2</th>\n",
              "      <td>I thought this was a wonderful way to spend ti...</td>\n",
              "      <td>positive</td>\n",
              "      <td>166</td>\n",
              "    </tr>\n",
              "    <tr>\n",
              "      <th>3</th>\n",
              "      <td>Basically there's a family where a little boy ...</td>\n",
              "      <td>negative</td>\n",
              "      <td>138</td>\n",
              "    </tr>\n",
              "    <tr>\n",
              "      <th>4</th>\n",
              "      <td>Petter Mattei's \"Love in the Time of Money\" is...</td>\n",
              "      <td>positive</td>\n",
              "      <td>230</td>\n",
              "    </tr>\n",
              "  </tbody>\n",
              "</table>\n",
              "</div>\n",
              "      <button class=\"colab-df-convert\" onclick=\"convertToInteractive('df-386f3da2-7dac-43b3-b2f6-5d991dc5feaf')\"\n",
              "              title=\"Convert this dataframe to an interactive table.\"\n",
              "              style=\"display:none;\">\n",
              "        \n",
              "  <svg xmlns=\"http://www.w3.org/2000/svg\" height=\"24px\"viewBox=\"0 0 24 24\"\n",
              "       width=\"24px\">\n",
              "    <path d=\"M0 0h24v24H0V0z\" fill=\"none\"/>\n",
              "    <path d=\"M18.56 5.44l.94 2.06.94-2.06 2.06-.94-2.06-.94-.94-2.06-.94 2.06-2.06.94zm-11 1L8.5 8.5l.94-2.06 2.06-.94-2.06-.94L8.5 2.5l-.94 2.06-2.06.94zm10 10l.94 2.06.94-2.06 2.06-.94-2.06-.94-.94-2.06-.94 2.06-2.06.94z\"/><path d=\"M17.41 7.96l-1.37-1.37c-.4-.4-.92-.59-1.43-.59-.52 0-1.04.2-1.43.59L10.3 9.45l-7.72 7.72c-.78.78-.78 2.05 0 2.83L4 21.41c.39.39.9.59 1.41.59.51 0 1.02-.2 1.41-.59l7.78-7.78 2.81-2.81c.8-.78.8-2.07 0-2.86zM5.41 20L4 18.59l7.72-7.72 1.47 1.35L5.41 20z\"/>\n",
              "  </svg>\n",
              "      </button>\n",
              "      \n",
              "  <style>\n",
              "    .colab-df-container {\n",
              "      display:flex;\n",
              "      flex-wrap:wrap;\n",
              "      gap: 12px;\n",
              "    }\n",
              "\n",
              "    .colab-df-convert {\n",
              "      background-color: #E8F0FE;\n",
              "      border: none;\n",
              "      border-radius: 50%;\n",
              "      cursor: pointer;\n",
              "      display: none;\n",
              "      fill: #1967D2;\n",
              "      height: 32px;\n",
              "      padding: 0 0 0 0;\n",
              "      width: 32px;\n",
              "    }\n",
              "\n",
              "    .colab-df-convert:hover {\n",
              "      background-color: #E2EBFA;\n",
              "      box-shadow: 0px 1px 2px rgba(60, 64, 67, 0.3), 0px 1px 3px 1px rgba(60, 64, 67, 0.15);\n",
              "      fill: #174EA6;\n",
              "    }\n",
              "\n",
              "    [theme=dark] .colab-df-convert {\n",
              "      background-color: #3B4455;\n",
              "      fill: #D2E3FC;\n",
              "    }\n",
              "\n",
              "    [theme=dark] .colab-df-convert:hover {\n",
              "      background-color: #434B5C;\n",
              "      box-shadow: 0px 1px 3px 1px rgba(0, 0, 0, 0.15);\n",
              "      filter: drop-shadow(0px 1px 2px rgba(0, 0, 0, 0.3));\n",
              "      fill: #FFFFFF;\n",
              "    }\n",
              "  </style>\n",
              "\n",
              "      <script>\n",
              "        const buttonEl =\n",
              "          document.querySelector('#df-386f3da2-7dac-43b3-b2f6-5d991dc5feaf button.colab-df-convert');\n",
              "        buttonEl.style.display =\n",
              "          google.colab.kernel.accessAllowed ? 'block' : 'none';\n",
              "\n",
              "        async function convertToInteractive(key) {\n",
              "          const element = document.querySelector('#df-386f3da2-7dac-43b3-b2f6-5d991dc5feaf');\n",
              "          const dataTable =\n",
              "            await google.colab.kernel.invokeFunction('convertToInteractive',\n",
              "                                                     [key], {});\n",
              "          if (!dataTable) return;\n",
              "\n",
              "          const docLinkHtml = 'Like what you see? Visit the ' +\n",
              "            '<a target=\"_blank\" href=https://colab.research.google.com/notebooks/data_table.ipynb>data table notebook</a>'\n",
              "            + ' to learn more about interactive tables.';\n",
              "          element.innerHTML = '';\n",
              "          dataTable['output_type'] = 'display_data';\n",
              "          await google.colab.output.renderOutput(dataTable, element);\n",
              "          const docLink = document.createElement('div');\n",
              "          docLink.innerHTML = docLinkHtml;\n",
              "          element.appendChild(docLink);\n",
              "        }\n",
              "      </script>\n",
              "    </div>\n",
              "  </div>\n",
              "  "
            ],
            "text/plain": [
              "                                              review sentiment  length\n",
              "0  One of the other reviewers has mentioned that ...  positive     307\n",
              "1  A wonderful little production. <br /><br />The...  positive     162\n",
              "2  I thought this was a wonderful way to spend ti...  positive     166\n",
              "3  Basically there's a family where a little boy ...  negative     138\n",
              "4  Petter Mattei's \"Love in the Time of Money\" is...  positive     230"
            ]
          },
          "metadata": {},
          "execution_count": 49
        }
      ]
    },
    {
      "cell_type": "markdown",
      "metadata": {
        "id": "EOb_8GgCn6zd"
      },
      "source": [
        "<div dir=\"rtl\">\n",
        "\n",
        "حالا که ستون جدید رو ایجاد کردید، میخوایم بدونیم که میانگین تعداد کلما هر جمله چندتاست، می تونید از mean استفاده کنید ولی خب دستور describe باحال تره. یادتون نره که این کارو میخواید روی ستون جدیدتون انجام بدید"
      ]
    },
    {
      "cell_type": "code",
      "metadata": {
        "id": "KlZtvG0Wodkq",
        "colab": {
          "base_uri": "https://localhost:8080/"
        },
        "outputId": "34bd9e5a-f799-4485-b664-82b155407c54"
      },
      "source": [
        "df['length'].describe()"
      ],
      "execution_count": 50,
      "outputs": [
        {
          "output_type": "execute_result",
          "data": {
            "text/plain": [
              "count    50000.000000\n",
              "mean       231.156940\n",
              "std        171.343997\n",
              "min          4.000000\n",
              "25%        126.000000\n",
              "50%        173.000000\n",
              "75%        280.000000\n",
              "max       2470.000000\n",
              "Name: length, dtype: float64"
            ]
          },
          "metadata": {},
          "execution_count": 50
        }
      ]
    },
    {
      "cell_type": "markdown",
      "metadata": {
        "id": "yhJvYx79olar"
      },
      "source": [
        "<div dir=\"rtl\">\n",
        "\n",
        "همچنین، همون طور که میبینید، ستون sentiment که قراره لیبلتون باشه، دارای مقادیر متنی هستش که بایستی به عددی تبدیلشون کنید.\n",
        "\n",
        "برای این کار می تونید از دستور get_dummies استفاده کنید.\n",
        "\n",
        "اگه نحوه ی کارشو بلد نیستید با یه سرچ ساده می تونید پیداش کنید"
      ]
    },
    {
      "cell_type": "code",
      "metadata": {
        "id": "ZKGoeEJxp3IA"
      },
      "source": [
        "df = pd.get_dummies(df, columns=['sentiment'], drop_first=True, prefix=\"\", prefix_sep=\"\")"
      ],
      "execution_count": 51,
      "outputs": []
    },
    {
      "cell_type": "markdown",
      "metadata": {
        "id": "O43-hxjbqF1i"
      },
      "source": [
        "<div dir=\"rtl\">\n",
        "\n",
        " تا اینجای کار دیتافریم شما باید 3 تا ستون داشته باشه که تو یکیش متن های شما هستش، یکی هم شامل طول هر کدوم از جملات و اون یکی هم شامل لیبل هر نظر هستش"
      ]
    },
    {
      "cell_type": "code",
      "metadata": {
        "id": "dnCOM-UKqFAR"
      },
      "source": [
        "df = df.rename(columns={'positive':'sentiment'})"
      ],
      "execution_count": 52,
      "outputs": []
    },
    {
      "cell_type": "markdown",
      "metadata": {
        "id": "rWpJS7JXqw3q"
      },
      "source": [
        "<div dir=\"rtl\">\n",
        "\n",
        "حالا باید تمامی جملات رو در یک لیست بریزید، همچنین تمامی لیبل ها نیز داخل یک لیست دیگر قرار گیرند"
      ]
    },
    {
      "cell_type": "code",
      "metadata": {
        "id": "HZxFrXpGq5OQ"
      },
      "source": [
        "sentences = list(df['review'])\n",
        "labels = list(df['sentiment'])\n",
        "samples_size = len(df)"
      ],
      "execution_count": 53,
      "outputs": []
    },
    {
      "cell_type": "markdown",
      "metadata": {
        "id": "bBsUOkjjrCoW"
      },
      "source": [
        "<div dir=\"rtl\">\n",
        "\n",
        "در ادامه باید پارامترهای مورد نظر برای حداکثر تعداد کلمات موجود در جمله، تعداد کلمات موجود در دیکشنری (برای قرار گرفتن در امبدینگ) و توکن کلمات خارج از دیکشنری را تعریف کنید"
      ]
    },
    {
      "cell_type": "markdown",
      "metadata": {
        "id": "83bXOeRmrspq"
      },
      "source": [
        "<div dir=\"auto\">\n",
        "\n",
        "حداکثر طول جملات را با توجه به اطلاعات بالا خودتون تنظیم کنید!"
      ]
    },
    {
      "cell_type": "code",
      "metadata": {
        "id": "m3d4TsGLromr"
      },
      "source": [
        "vocab_size = 50000\n",
        "max_length = df['length'].max()\n",
        "oov_token = \"<OOV>\""
      ],
      "execution_count": 54,
      "outputs": []
    },
    {
      "cell_type": "markdown",
      "metadata": {
        "id": "hiNCFjZ9r58q"
      },
      "source": [
        "<div dir=\"rtl\">\n",
        "\n",
        "سپس بایستی Tokenizer تون رو بسازید و سپس اون رو روی جملاتتون فیت کنید"
      ]
    },
    {
      "cell_type": "code",
      "metadata": {
        "id": "-GiRe2bEsAyp"
      },
      "source": [
        "from tensorflow.keras.preprocessing.text import Tokenizer\n",
        "tokenizer = Tokenizer(num_words = vocab_size, oov_token= oov_token)\n",
        "tokenizer.fit_on_texts(sentences)"
      ],
      "execution_count": 55,
      "outputs": []
    },
    {
      "cell_type": "markdown",
      "metadata": {
        "id": "1u22e0yAsMSO"
      },
      "source": [
        "<div dir=\"rtl\">\n",
        "\n",
        "اکنون جملات تون رو با استفاده از Tokenizer تون به سری هایی از اعداد صحیح تبدیل کنید و اسم اون رو sequences بذارید"
      ]
    },
    {
      "cell_type": "code",
      "metadata": {
        "id": "QraSgybnsZim"
      },
      "source": [
        "sequences = tokenizer.texts_to_sequences(sentences)"
      ],
      "execution_count": 56,
      "outputs": []
    },
    {
      "cell_type": "markdown",
      "metadata": {
        "id": "gltPLOjqsczu"
      },
      "source": [
        "<div dir=\"rtl\">\n",
        "\n",
        "الان هم وقت اونه که همه ی جملاتتون رو هم طول کنید، با استفاده از توابع کراس این کار رو انجام  بدید و طول اون سری هایی رو که ساختید به یک عدد خاص برسونید (اون عدد خاص چنده؟ راهنمایی می کنم، لزومی نداره 32 باشه مثل دفعه ی پیش و بالاتر یه کارایی کردید که راحت تر بتونید این عدد رو انتخاب کنید)"
      ]
    },
    {
      "cell_type": "markdown",
      "source": [
        "max_length"
      ],
      "metadata": {
        "id": "OrNWB0uAZkNF"
      }
    },
    {
      "cell_type": "code",
      "metadata": {
        "id": "MtYb6IE9tMmJ"
      },
      "source": [
        "from tensorflow.keras.preprocessing.sequence import pad_sequences\n",
        "padded = pad_sequences(sequences, maxlen = max_length, padding = 'post', truncating= 'post')"
      ],
      "execution_count": 57,
      "outputs": []
    },
    {
      "cell_type": "markdown",
      "metadata": {
        "id": "ZNwjsPCptdmE"
      },
      "source": [
        "<div dir=\"rtl\">\n",
        "\n",
        "نوبتی هم اگر باشه نوبت تقسیم داده ها به ترین و تست هستش، برای این کار چجوری میخواید عمل کنید؟\n",
        "\n",
        "آفرین! از تابع ترین تست اسپلیت استفاده کنید =)\n",
        "\n",
        "یادتون باشه که رندوم استیت رو برابر 101 قرار بدید!"
      ]
    },
    {
      "cell_type": "code",
      "metadata": {
        "id": "kXX3Vf4ctoKB"
      },
      "source": [
        "from sklearn.model_selection import train_test_split\n",
        "X_train, X_test, y_train, y_test = train_test_split(padded, labels, test_size = 0.2, random_state = 101)\n",
        "y_train = np.array(y_train)\n",
        "y_test = np.array(y_test)"
      ],
      "execution_count": 58,
      "outputs": []
    },
    {
      "cell_type": "markdown",
      "metadata": {
        "id": "0VLYF_4ct6OS"
      },
      "source": [
        "<div dir=\"rtl\">\n",
        "\n",
        "الانم وقتشه که شکل دیتاهاتون رو ببینید"
      ]
    },
    {
      "cell_type": "code",
      "metadata": {
        "id": "y-dLpZAGt5sJ",
        "colab": {
          "base_uri": "https://localhost:8080/"
        },
        "outputId": "29bd1c57-6d2a-40e4-d898-f49441224b3d"
      },
      "source": [
        "print(X_train.shape)\n",
        "print(X_test.shape)\n",
        "print(y_train.shape)\n",
        "print(y_test.shape)"
      ],
      "execution_count": 59,
      "outputs": [
        {
          "output_type": "stream",
          "name": "stdout",
          "text": [
            "(40000, 2470)\n",
            "(10000, 2470)\n",
            "(40000,)\n",
            "(10000,)\n"
          ]
        }
      ]
    },
    {
      "cell_type": "markdown",
      "metadata": {
        "id": "CEbIlxmXuNCZ"
      },
      "source": [
        "<div dir=\"rtl\">\n",
        "\n",
        "مثل همیشه مدلتون رو بسازید!\n",
        "\n",
        "1. بعد لایه امبدینگ تون رو مشخص کنید که چند تا باشه، یادتون باشه که هرچی بیشتر باشه مدلتون سنگین تره\n",
        "\n",
        "2. یک لایه ی LSTM کافی هستش و تعداد نود هاش رو برابر 64 بذارید.\n",
        "اگه دوست داشتید میتونید بیشتر از یک لایه استفاده کنید که تاثیرشو ببینید ولی اون موقع باید پارامتر return_sequences رو توی LSTM اولی برابر True قرار بدید\n",
        "\n",
        "3. مثل همیشه یه لایه ی دنس، تعداد نود هاش رو هم برابر 64 بذارید و اکتیوشن relu استفاده کنید\n",
        "\n",
        "4. لایه ی خروجی یادتون نره!"
      ]
    },
    {
      "cell_type": "code",
      "metadata": {
        "id": "DUB17_5MuMmg"
      },
      "source": [
        "embedding_dimension = 150\n",
        "from keras.models import Sequential\n",
        "from tensorflow.keras.layers import Embedding, Dense, LSTM\n",
        "model = Sequential()\n",
        "model.add(Embedding(input_dim = vocab_size, output_dim = embedding_dimension ,input_length= max_length))\n",
        "model.add(LSTM(64))\n",
        "model.add(Dense(64, activation = 'relu'))\n",
        "model.add(Dense(1, activation = 'sigmoid'))"
      ],
      "execution_count": 60,
      "outputs": []
    },
    {
      "cell_type": "markdown",
      "metadata": {
        "id": "E5xzjiVJvKDA"
      },
      "source": [
        "<div dir=\"rtl\">\n",
        "\n",
        "و صد البته که باید مدلتون رو کامپایل کنید!"
      ]
    },
    {
      "cell_type": "code",
      "metadata": {
        "id": "UF_wBSLNvO9r"
      },
      "source": [
        "model.compile(loss = 'binary_crossentropy', optimizer = 'adam', metrics = ['accuracy'])"
      ],
      "execution_count": 61,
      "outputs": []
    },
    {
      "cell_type": "markdown",
      "metadata": {
        "id": "mfT_FFCbvjnf"
      },
      "source": [
        "<div dir=\"rtl\">\n",
        "\n",
        "حالا هم مدلتون رو روی دیتاتون فیت کنید"
      ]
    },
    {
      "cell_type": "code",
      "metadata": {
        "id": "X5F56cLtvoui",
        "colab": {
          "base_uri": "https://localhost:8080/"
        },
        "outputId": "dd7a0666-a3bf-4793-beaf-5febbba21ed1"
      },
      "source": [
        "num_epochs = 10\n",
        "history = model.fit(X_train, y_train,\n",
        "                    epochs = num_epochs, validation_data = (X_test,y_test),\n",
        "                    verbose = 1, batch_size = 128)"
      ],
      "execution_count": 62,
      "outputs": [
        {
          "output_type": "stream",
          "name": "stdout",
          "text": [
            "Epoch 1/10\n",
            "313/313 [==============================] - 111s 346ms/step - loss: 0.6934 - accuracy: 0.4960 - val_loss: 0.6931 - val_accuracy: 0.5041\n",
            "Epoch 2/10\n",
            "313/313 [==============================] - 110s 351ms/step - loss: 0.6932 - accuracy: 0.4962 - val_loss: 0.6931 - val_accuracy: 0.5041\n",
            "Epoch 3/10\n",
            "313/313 [==============================] - 108s 344ms/step - loss: 0.6932 - accuracy: 0.4996 - val_loss: 0.6936 - val_accuracy: 0.4959\n",
            "Epoch 4/10\n",
            "313/313 [==============================] - 110s 351ms/step - loss: 0.6933 - accuracy: 0.4978 - val_loss: 0.6931 - val_accuracy: 0.5041\n",
            "Epoch 5/10\n",
            "313/313 [==============================] - 108s 346ms/step - loss: 0.6932 - accuracy: 0.4978 - val_loss: 0.6932 - val_accuracy: 0.4959\n",
            "Epoch 6/10\n",
            "313/313 [==============================] - 108s 345ms/step - loss: 0.6932 - accuracy: 0.4996 - val_loss: 0.6932 - val_accuracy: 0.4959\n",
            "Epoch 7/10\n",
            "313/313 [==============================] - 108s 344ms/step - loss: 0.6932 - accuracy: 0.5010 - val_loss: 0.6931 - val_accuracy: 0.5041\n",
            "Epoch 8/10\n",
            "313/313 [==============================] - 110s 351ms/step - loss: 0.6932 - accuracy: 0.4979 - val_loss: 0.6932 - val_accuracy: 0.4959\n",
            "Epoch 9/10\n",
            "313/313 [==============================] - 108s 344ms/step - loss: 0.6931 - accuracy: 0.4972 - val_loss: 0.6932 - val_accuracy: 0.4959\n",
            "Epoch 10/10\n",
            "313/313 [==============================] - 108s 345ms/step - loss: 0.6931 - accuracy: 0.4997 - val_loss: 0.6932 - val_accuracy: 0.4959\n"
          ]
        }
      ]
    },
    {
      "cell_type": "markdown",
      "metadata": {
        "id": "52ew1BIywq5z"
      },
      "source": [
        "<div dir=\"rtl\">\n",
        "\n",
        "موفق باشید =)\n"
      ]
    }
  ]
}