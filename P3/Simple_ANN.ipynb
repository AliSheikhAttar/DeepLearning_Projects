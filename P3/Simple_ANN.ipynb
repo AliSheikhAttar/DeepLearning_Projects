{
 "cells": [
  {
   "cell_type": "code",
   "execution_count": 2,
   "id": "79cad1aa",
   "metadata": {},
   "outputs": [],
   "source": [
    "import numpy as np\n",
    "import pandas as pd\n",
    "import tensorflow as tf"
   ]
  },
  {
   "cell_type": "code",
   "execution_count": 3,
   "id": "720aaddf",
   "metadata": {},
   "outputs": [
    {
     "data": {
      "text/plain": [
       "[1.5708225071700161]"
      ]
     },
     "execution_count": 3,
     "metadata": {},
     "output_type": "execute_result"
    }
   ],
   "source": [
    "x = np.linspace(0,4*np.pi,60000)\n",
    "X = []\n",
    "for i in range(len(x)):\n",
    "    X.append([x[i]])\n",
    "X[7500]"
   ]
  },
  {
   "cell_type": "code",
   "execution_count": 4,
   "id": "1cb8221b",
   "metadata": {},
   "outputs": [],
   "source": [
    "Y = np.sin(x)\n",
    "y = []\n",
    "for i in range(len(Y)):\n",
    "    y.append([Y[i]])\n"
   ]
  },
  {
   "cell_type": "code",
   "execution_count": 5,
   "id": "3ab3c409",
   "metadata": {},
   "outputs": [],
   "source": [
    "from sklearn.preprocessing import StandardScaler"
   ]
  },
  {
   "cell_type": "code",
   "execution_count": 6,
   "id": "791d8e22",
   "metadata": {},
   "outputs": [],
   "source": [
    "sc = StandardScaler()"
   ]
  },
  {
   "cell_type": "code",
   "execution_count": 7,
   "id": "aa6db93b",
   "metadata": {},
   "outputs": [
    {
     "data": {
      "text/plain": [
       "array([[-1.73202194],\n",
       "       [-1.73196421],\n",
       "       [-1.73190647],\n",
       "       ...,\n",
       "       [ 1.73190647],\n",
       "       [ 1.73196421],\n",
       "       [ 1.73202194]])"
      ]
     },
     "execution_count": 7,
     "metadata": {},
     "output_type": "execute_result"
    }
   ],
   "source": [
    "X = sc.fit_transform(X)\n",
    "X"
   ]
  },
  {
   "cell_type": "code",
   "execution_count": 8,
   "id": "af9715db",
   "metadata": {},
   "outputs": [
    {
     "data": {
      "text/plain": [
       "array([[-1.73202194],\n",
       "       [-1.73196421],\n",
       "       [-1.73190647],\n",
       "       ...,\n",
       "       [-1.73213741],\n",
       "       [-1.73207968],\n",
       "       [-1.73202194]])"
      ]
     },
     "execution_count": 8,
     "metadata": {},
     "output_type": "execute_result"
    }
   ],
   "source": [
    "y = sc.transform(y)\n",
    "y"
   ]
  },
  {
   "cell_type": "code",
   "execution_count": 9,
   "id": "75d0caa8",
   "metadata": {},
   "outputs": [],
   "source": [
    "from sklearn.model_selection import train_test_split"
   ]
  },
  {
   "cell_type": "code",
   "execution_count": 10,
   "id": "61aa7784",
   "metadata": {},
   "outputs": [],
   "source": [
    "X_train, X_test, y_train, y_test = train_test_split(X, y, test_size=0.2, random_state=0)"
   ]
  },
  {
   "cell_type": "code",
   "execution_count": 11,
   "id": "6ff47c2f",
   "metadata": {},
   "outputs": [
    {
     "data": {
      "text/plain": [
       "48000"
      ]
     },
     "execution_count": 11,
     "metadata": {},
     "output_type": "execute_result"
    }
   ],
   "source": [
    "len(y_train)"
   ]
  },
  {
   "cell_type": "code",
   "execution_count": 12,
   "id": "e8783451",
   "metadata": {},
   "outputs": [
    {
     "data": {
      "text/plain": [
       "12000"
      ]
     },
     "execution_count": 12,
     "metadata": {},
     "output_type": "execute_result"
    }
   ],
   "source": [
    "len(y_test)"
   ]
  },
  {
   "cell_type": "code",
   "execution_count": 13,
   "id": "d5c6d464",
   "metadata": {},
   "outputs": [],
   "source": [
    "ann = tf.keras.models.Sequential()"
   ]
  },
  {
   "cell_type": "code",
   "execution_count": 14,
   "id": "c6b68c20",
   "metadata": {},
   "outputs": [],
   "source": [
    "ann.add(tf.keras.layers.Dense(units=6,activation='sigmoid'))"
   ]
  },
  {
   "cell_type": "code",
   "execution_count": 15,
   "id": "1437edfa",
   "metadata": {},
   "outputs": [],
   "source": [
    "ann.add(tf.keras.layers.Dense(units=6,activation='sigmoid'))"
   ]
  },
  {
   "cell_type": "code",
   "execution_count": 16,
   "id": "e2ff2d23",
   "metadata": {},
   "outputs": [],
   "source": [
    "ann.add(tf.keras.layers.Dense(units=1,activation='sigmoid'))"
   ]
  },
  {
   "cell_type": "code",
   "execution_count": 17,
   "id": "a6b4bf76",
   "metadata": {},
   "outputs": [],
   "source": [
    "ann.compile(optimizer = 'adam' , loss = 'mean_squared_error' , metrics = ['mean_squared_error'])"
   ]
  },
  {
   "cell_type": "code",
   "execution_count": 18,
   "id": "88a54606",
   "metadata": {
    "scrolled": true
   },
   "outputs": [
    {
     "name": "stdout",
     "output_type": "stream",
     "text": [
      "Epoch 1/100\n",
      "1500/1500 [==============================] - 2s 952us/step - loss: 3.2875 - mean_squared_error: 3.2875\n",
      "Epoch 2/100\n",
      "1500/1500 [==============================] - 1s 924us/step - loss: 3.0546 - mean_squared_error: 3.0546\n",
      "Epoch 3/100\n",
      "1500/1500 [==============================] - 1s 906us/step - loss: 3.0439 - mean_squared_error: 3.0439\n",
      "Epoch 4/100\n",
      "1500/1500 [==============================] - 1s 955us/step - loss: 3.0408 - mean_squared_error: 3.04080s - loss: 3.0378 - mean_squared_err - ETA: 0s - loss: 3.0391 - mean_squared_err\n",
      "Epoch 5/100\n",
      "1500/1500 [==============================] - ETA: 0s - loss: 3.0406 - mean_squared_error: 3.04 - 1s 944us/step - loss: 3.0397 - mean_squared_error: 3.0397\n",
      "Epoch 6/100\n",
      "1500/1500 [==============================] - 1s 927us/step - loss: 3.0393 - mean_squared_error: 3.0393\n",
      "Epoch 7/100\n",
      "1500/1500 [==============================] - 1s 943us/step - loss: 3.0391 - mean_squared_error: 3.0391\n",
      "Epoch 8/100\n",
      "1500/1500 [==============================] - 1s 968us/step - loss: 3.0390 - mean_squared_error: 3.0390\n",
      "Epoch 9/100\n",
      "1500/1500 [==============================] - 1s 939us/step - loss: 3.0390 - mean_squared_error: 3.03900s - loss: 3.030\n",
      "Epoch 10/100\n",
      "1500/1500 [==============================] - 1s 979us/step - loss: 3.0390 - mean_squared_error: 3.03900s - loss: 3.0\n",
      "Epoch 11/100\n",
      "1500/1500 [==============================] - 2s 1ms/step - loss: 3.0390 - mean_squared_error: 3.0390: 0s - loss: 3.0377 - mean_squar\n",
      "Epoch 12/100\n",
      "1500/1500 [==============================] - 1s 976us/step - loss: 3.0390 - mean_squared_error: 3.0390\n",
      "Epoch 13/100\n",
      "1500/1500 [==============================] - 1s 964us/step - loss: 3.0390 - mean_squared_error: 3.0390\n",
      "Epoch 14/100\n",
      "1500/1500 [==============================] - 1s 972us/step - loss: 3.0390 - mean_squared_error: 3.0390\n",
      "Epoch 15/100\n",
      "1500/1500 [==============================] - 2s 1ms/step - loss: 3.0390 - mean_squared_error: 3.0390: 0s - loss: 3.0353 - mean - ETA: 0s - loss: 3.0367 - mean_squared_error\n",
      "Epoch 16/100\n",
      "1500/1500 [==============================] - 2s 1ms/step - loss: 3.0390 - mean_squared_error: 3.0390: 0s - loss: 3.036\n",
      "Epoch 17/100\n",
      "1500/1500 [==============================] - 1s 982us/step - loss: 3.0390 - mean_squared_error: 3.0390\n",
      "Epoch 18/100\n",
      "1500/1500 [==============================] - 2s 1ms/step - loss: 3.0390 - mean_squared_error: 3.0390\n",
      "Epoch 19/100\n",
      "1500/1500 [==============================] - 2s 1ms/step - loss: 3.0390 - mean_squared_error: 3.0390\n",
      "Epoch 20/100\n",
      "1500/1500 [==============================] - 2s 993us/step - loss: 3.0390 - mean_squared_error: 3.03900s - loss: 3.0351 - mean_squar - ETA: 0s - loss: 3.0393 - mean_squared_error: 3.03 - ETA: 0s - loss: 3.0366 - mean\n",
      "Epoch 21/100\n",
      "1500/1500 [==============================] - 1s 960us/step - loss: 3.0390 - mean_squared_error: 3.0390\n",
      "Epoch 22/100\n",
      "1500/1500 [==============================] - 1s 988us/step - loss: 3.0390 - mean_squared_error: 3.03900s - loss: 3.0397 - me - ETA: 0s - loss: 3.0401 - mean_squared_err\n",
      "Epoch 23/100\n",
      "1500/1500 [==============================] - 2s 1ms/step - loss: 3.0390 - mean_squared_error: 3.0390: 1s - los - ETA: 0s - loss: 3.0387 - mean_squared_error: 3.\n",
      "Epoch 24/100\n",
      "1500/1500 [==============================] - 1s 963us/step - loss: 3.0390 - mean_squared_error: 3.0390 ETA: 0s - loss: 3.0376 - mean_squared_error: \n",
      "Epoch 25/100\n",
      "1500/1500 [==============================] - 1s 939us/step - loss: 3.0390 - mean_squared_error: 3.03900s - loss: 3.0399 - \n",
      "Epoch 26/100\n",
      "1500/1500 [==============================] - 1s 972us/step - loss: 3.0390 - mean_squared_error: 3.03900s - loss: 3.0403 - mean_squared_err\n",
      "Epoch 27/100\n",
      "1500/1500 [==============================] - 1s 955us/step - loss: 3.0390 - mean_squared_error: 3.0390\n",
      "Epoch 28/100\n",
      "1500/1500 [==============================] - 1s 897us/step - loss: 3.0390 - mean_squared_error: 3.0390\n",
      "Epoch 29/100\n",
      "1500/1500 [==============================] - 1s 961us/step - loss: 3.0390 - mean_squared_error: 3.0390\n",
      "Epoch 30/100\n",
      "1500/1500 [==============================] - 2s 1ms/step - loss: 3.0390 - mean_squared_error: 3.0390: 0s - loss: 3.0407 - me\n",
      "Epoch 31/100\n",
      "1500/1500 [==============================] - 2s 1ms/step - loss: 3.0390 - mean_squared_error: 3.0390\n",
      "Epoch 32/100\n",
      "1500/1500 [==============================] - 2s 1ms/step - loss: 3.0390 - mean_squared_error: 3.0390: 1s - loss: 3.0530 - mean_s - ETA: 0s - loss: 3.0444 - \n",
      "Epoch 33/100\n",
      "1500/1500 [==============================] - 1s 991us/step - loss: 3.0390 - mean_squared_error: 3.0390\n",
      "Epoch 34/100\n",
      "1500/1500 [==============================] - 2s 1ms/step - loss: 3.0390 - mean_squared_error: 3.0390: 0s - loss: 3.0381 - mean_squared - ETA: 0s - loss: 3.0391 - mean_squared_error: 3.03\n",
      "Epoch 35/100\n",
      "1500/1500 [==============================] - 2s 1ms/step - loss: 3.0390 - mean_squared_error: 3.0390: 0s - loss: 3.0\n",
      "Epoch 36/100\n",
      "1500/1500 [==============================] - 1s 940us/step - loss: 3.0390 - mean_squared_error: 3.03901s - l - ETA: 0s - loss: 3.0399 - mean_squared_e\n",
      "Epoch 37/100\n",
      "1500/1500 [==============================] - 2s 1ms/step - loss: 3.0390 - mean_squared_error: 3.0390: 0s - loss: 3.0366 - mean_s\n",
      "Epoch 38/100\n",
      "1500/1500 [==============================] - 1s 947us/step - loss: 3.0390 - mean_squared_error: 3.0390\n",
      "Epoch 39/100\n",
      "1500/1500 [==============================] - 2s 1ms/step - loss: 3.0390 - mean_squared_error: 3.0390: 0s - loss: 3.0407 - mean_squared_error:  - ETA: 0s - loss: 3.0380 - mean_squar\n",
      "Epoch 40/100\n",
      "1500/1500 [==============================] - 1s 980us/step - loss: 3.0390 - mean_squared_error: 3.03901s - loss: 3\n",
      "Epoch 41/100\n",
      "1500/1500 [==============================] - 1s 949us/step - loss: 3.0390 - mean_squared_error: 3.0390\n",
      "Epoch 42/100\n",
      "1500/1500 [==============================] - 2s 1ms/step - loss: 3.0390 - mean_squared_error: 3.0390: 1s - loss: 3.0289 - mean_squared_err - ETA: 0s - los - ETA: 0s - loss: 3.0381 - mean_squared_error\n",
      "Epoch 43/100\n",
      "1500/1500 [==============================] - 1s 988us/step - loss: 3.0390 - mean_squared_error: 3.03901s - loss: 3.0445 - mean_squared_e - ETA: 0s - loss: 3.0401 \n",
      "Epoch 44/100\n",
      "1500/1500 [==============================] - 1s 957us/step - loss: 3.0390 - mean_squared_error: 3.03901s - loss: 3.0 - ETA: 0s - loss: 3.0375 - mean_squared_error: 3. - ETA: 0s - loss: 3.0380 - mean_squared_err - ETA: 0s - loss: 3.0387 - mean_squared_error: 3.03\n",
      "Epoch 45/100\n",
      "1500/1500 [==============================] - 1s 939us/step - loss: 3.0390 - mean_squared_error: 3.0390\n",
      "Epoch 46/100\n",
      "1500/1500 [==============================] - 1s 958us/step - loss: 3.0390 - mean_squared_error: 3.0390\n",
      "Epoch 47/100\n",
      "1500/1500 [==============================] - 2s 1ms/step - loss: 3.0390 - mean_squared_error: 3.0390\n",
      "Epoch 48/100\n",
      "1500/1500 [==============================] - 1s 902us/step - loss: 3.0390 - mean_squared_error: 3.0390\n",
      "Epoch 49/100\n",
      "1500/1500 [==============================] - 1s 892us/step - loss: 3.0390 - mean_squared_error: 3.0390\n",
      "Epoch 50/100\n",
      "1500/1500 [==============================] - 1s 900us/step - loss: 3.0390 - mean_squared_error: 3.0390\n",
      "Epoch 51/100\n",
      "1500/1500 [==============================] - 1s 899us/step - loss: 3.0390 - mean_squared_error: 3.0390\n",
      "Epoch 52/100\n",
      "1500/1500 [==============================] - 1s 907us/step - loss: 3.0390 - mean_squared_error: 3.0390\n",
      "Epoch 53/100\n",
      "1500/1500 [==============================] - 1s 908us/step - loss: 3.0390 - mean_squared_error: 3.0390\n",
      "Epoch 54/100\n",
      "1500/1500 [==============================] - 1s 918us/step - loss: 3.0390 - mean_squared_error: 3.0390\n",
      "Epoch 55/100\n",
      "1500/1500 [==============================] - 1s 931us/step - loss: 3.0390 - mean_squared_error: 3.03900s - loss: 3.0391 - \n",
      "Epoch 56/100\n",
      "1500/1500 [==============================] - 1s 947us/step - loss: 3.0390 - mean_squared_error: 3.0390\n",
      "Epoch 57/100\n",
      "1500/1500 [==============================] - 1s 945us/step - loss: 3.0390 - mean_squared_error: 3.0390\n",
      "Epoch 58/100\n",
      "1500/1500 [==============================] - 1s 887us/step - loss: 3.0390 - mean_squared_error: 3.03900s - loss:\n",
      "Epoch 59/100\n",
      "1500/1500 [==============================] - 1s 903us/step - loss: 3.0390 - mean_squared_error: 3.0390\n",
      "Epoch 60/100\n",
      "1500/1500 [==============================] - 1s 938us/step - loss: 3.0390 - mean_squared_error: 3.03900s - loss: 3.0397 - mean_squared_err\n",
      "Epoch 61/100\n",
      "1500/1500 [==============================] - 1s 957us/step - loss: 3.0390 - mean_squared_error: 3.03900s - loss: 3.0373 - mean_squared_error:  - ETA: 0s - loss: 3.0383 - mean_squar - ETA: 0s - loss: 3.0402 - mean_squared\n",
      "Epoch 62/100\n",
      "1500/1500 [==============================] - 1s 944us/step - loss: 3.0390 - mean_squared_error: 3.03900s - loss: 3.0382 - mean_squared_e\n",
      "Epoch 63/100\n",
      "1500/1500 [==============================] - 1s 900us/step - loss: 3.0390 - mean_squared_error: 3.03900s - loss: 3.0389 - me\n",
      "Epoch 64/100\n",
      "1500/1500 [==============================] - 1s 932us/step - loss: 3.0390 - mean_squared_error: 3.0390\n",
      "Epoch 65/100\n",
      "1500/1500 [==============================] - 1s 912us/step - loss: 3.0390 - mean_squared_error: 3.03900s - loss: 3.0390 - mean_squared_error: 3.03\n",
      "Epoch 66/100\n",
      "1500/1500 [==============================] - 1s 914us/step - loss: 3.0390 - mean_squared_error: 3.03900s - loss: 3.0361 - mean_s\n",
      "Epoch 67/100\n",
      "1500/1500 [==============================] - 1s 974us/step - loss: 3.0390 - mean_squared_error: 3.03901s - loss: 3.0422 - mean_squared_error: 3.04 - ETA: 1s - loss: 3.0430 - mean_squared_error: 3.04 - ETA: 1s -\n",
      "Epoch 68/100\n",
      "1500/1500 [==============================] - 1s 934us/step - loss: 3.0390 - mean_squared_error: 3.0390\n",
      "Epoch 69/100\n",
      "1500/1500 [==============================] - 1s 970us/step - loss: 3.0390 - mean_squared_error: 3.03900s - loss: 3\n",
      "Epoch 70/100\n",
      "1500/1500 [==============================] - 1s 985us/step - loss: 3.0390 - mean_squared_error: 3.0390\n",
      "Epoch 71/100\n",
      "1500/1500 [==============================] - 2s 1ms/step - loss: 3.0390 - mean_squared_error: 3.0390\n",
      "Epoch 72/100\n",
      "1500/1500 [==============================] - 1s 926us/step - loss: 3.0390 - mean_squared_error: 3.03900s - loss: 3\n",
      "Epoch 73/100\n",
      "1500/1500 [==============================] - 1s 947us/step - loss: 3.0390 - mean_squared_error: 3.0390\n",
      "Epoch 74/100\n",
      "1500/1500 [==============================] - 1s 925us/step - loss: 3.0390 - mean_squared_error: 3.0390\n",
      "Epoch 75/100\n",
      "1500/1500 [==============================] - 1s 958us/step - loss: 3.0390 - mean_squared_error: 3.03900s - loss: 3.0\n",
      "Epoch 76/100\n",
      "1500/1500 [==============================] - 1s 946us/step - loss: 3.0390 - mean_squared_error: 3.03901s -\n",
      "Epoch 77/100\n",
      "1500/1500 [==============================] - 1s 939us/step - loss: 3.0390 - mean_squared_error: 3.03900s - loss: 3.0387 - mean_squared_error: 3.\n",
      "Epoch 78/100\n",
      "1500/1500 [==============================] - 1s 947us/step - loss: 3.0390 - mean_squared_error: 3.03900s - loss: 3.0365 - mean_squared_error\n",
      "Epoch 79/100\n",
      "1500/1500 [==============================] - 1s 944us/step - loss: 3.0390 - mean_squared_error: 3.0390 ETA: 0s - loss: 3.0387 - mean_squared_error: 3.03\n",
      "Epoch 80/100\n",
      "1500/1500 [==============================] - 1s 934us/step - loss: 3.0390 - mean_squared_error: 3.0390\n",
      "Epoch 81/100\n",
      "1500/1500 [==============================] - 1s 972us/step - loss: 3.0390 - mean_squared_error: 3.03901s - loss: 3.0380 - mean_squ - ETA: 0s - loss: 3.037\n",
      "Epoch 82/100\n",
      "1500/1500 [==============================] - 1s 943us/step - loss: 3.0390 - mean_squared_error: 3.0390\n",
      "Epoch 83/100\n",
      "1500/1500 [==============================] - 1s 999us/step - loss: 3.0390 - mean_squared_error: 3.03900s - loss: 3.0372 - mean - ETA: 0s - loss: 3.0398 - mean_squared_error: 3.\n",
      "Epoch 84/100\n",
      "1500/1500 [==============================] - 1s 975us/step - loss: 3.0390 - mean_squared_error: 3.03900s - loss: 3.0412 - mean_squar - ETA: 0s - loss: 3.0395 - mean_s\n",
      "Epoch 85/100\n",
      "1500/1500 [==============================] - 1s 930us/step - loss: 3.0390 - mean_squared_error: 3.0390\n",
      "Epoch 86/100\n",
      "1500/1500 [==============================] - 1s 959us/step - loss: 3.0390 - mean_squared_error: 3.03901s - loss: 3.0369 - mean_s - ETA: 0s - loss: 3.0407 - me\n",
      "Epoch 87/100\n",
      "1500/1500 [==============================] - 1s 936us/step - loss: 3.0390 - mean_squared_error: 3.03900s - loss: 3.0388 - mean - ETA: 0s - loss: 3.0398 - mean_squ\n",
      "Epoch 88/100\n",
      "1500/1500 [==============================] - 1s 932us/step - loss: 3.0390 - mean_squared_error: 3.0390\n",
      "Epoch 89/100\n",
      "1500/1500 [==============================] - 1s 976us/step - loss: 3.0390 - mean_squared_error: 3.0390\n",
      "Epoch 90/100\n",
      "1500/1500 [==============================] - 2s 1ms/step - loss: 3.0390 - mean_squared_error: 3.0390: 1s - loss: 3.0390 - mean_squared_error:  - ETA: \n",
      "Epoch 91/100\n",
      "1500/1500 [==============================] - 1s 933us/step - loss: 3.0390 - mean_squared_error: 3.0390\n",
      "Epoch 92/100\n",
      "1500/1500 [==============================] - 1s 932us/step - loss: 3.0390 - mean_squared_error: 3.0390\n",
      "Epoch 93/100\n",
      "1500/1500 [==============================] - 1s 899us/step - loss: 3.0390 - mean_squared_error: 3.03900s - loss: 3.0331 - me\n",
      "Epoch 94/100\n",
      "1500/1500 [==============================] - 1s 932us/step - loss: 3.0390 - mean_squared_error: 3.03900s - loss: 3.040\n",
      "Epoch 95/100\n",
      "1500/1500 [==============================] - 1s 935us/step - loss: 3.0390 - mean_squared_error: 3.0390\n",
      "Epoch 96/100\n",
      "1500/1500 [==============================] - 1s 905us/step - loss: 3.0390 - mean_squared_error: 3.0390\n",
      "Epoch 97/100\n",
      "1500/1500 [==============================] - 1s 980us/step - loss: 3.0390 - mean_squared_error: 3.03900s - loss: 3.0397 - mean_squared_e - ETA: 0s - loss: 3.0378 - mean\n",
      "Epoch 98/100\n",
      "1500/1500 [==============================] - 1s 955us/step - loss: 3.0390 - mean_squared_error: 3.0390\n",
      "Epoch 99/100\n",
      "1500/1500 [==============================] - 1s 932us/step - loss: 3.0390 - mean_squared_error: 3.0390\n",
      "Epoch 100/100\n",
      "1500/1500 [==============================] - 1s 946us/step - loss: 3.0390 - mean_squared_error: 3.03900s - loss: 3\n"
     ]
    },
    {
     "data": {
      "text/plain": [
       "<keras.callbacks.History at 0x1eb5da76400>"
      ]
     },
     "execution_count": 18,
     "metadata": {},
     "output_type": "execute_result"
    }
   ],
   "source": [
    "ann.fit(X_train,y_train,batch_size=32,epochs=100)"
   ]
  },
  {
   "cell_type": "code",
   "execution_count": 22,
   "id": "96621deb",
   "metadata": {},
   "outputs": [
    {
     "data": {
      "text/plain": [
       "[1e-05]"
      ]
     },
     "execution_count": 22,
     "metadata": {},
     "output_type": "execute_result"
    }
   ],
   "source": [
    "o = [0.00001]\n",
    "o"
   ]
  },
  {
   "cell_type": "code",
   "execution_count": 23,
   "id": "9bf65158",
   "metadata": {},
   "outputs": [
    {
     "data": {
      "text/plain": [
       "array([[-1.73201918]])"
      ]
     },
     "execution_count": 23,
     "metadata": {},
     "output_type": "execute_result"
    }
   ],
   "source": [
    "o = sc.transform([o]) \n",
    "o"
   ]
  },
  {
   "cell_type": "code",
   "execution_count": 24,
   "id": "43108cc1",
   "metadata": {},
   "outputs": [
    {
     "data": {
      "text/plain": [
       "array([[4.0592307e-11]], dtype=float32)"
      ]
     },
     "execution_count": 24,
     "metadata": {},
     "output_type": "execute_result"
    }
   ],
   "source": [
    "ann.predict(o)"
   ]
  }
 ],
 "metadata": {
  "kernelspec": {
   "display_name": "Python 3",
   "language": "python",
   "name": "python3"
  },
  "language_info": {
   "codemirror_mode": {
    "name": "ipython",
    "version": 3
   },
   "file_extension": ".py",
   "mimetype": "text/x-python",
   "name": "python",
   "nbconvert_exporter": "python",
   "pygments_lexer": "ipython3",
   "version": "3.8.8"
  }
 },
 "nbformat": 4,
 "nbformat_minor": 5
}
